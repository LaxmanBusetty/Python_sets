{
  "nbformat": 4,
  "nbformat_minor": 0,
  "metadata": {
    "colab": {
      "provenance": []
    },
    "kernelspec": {
      "name": "python3",
      "display_name": "Python 3"
    },
    "language_info": {
      "name": "python"
    }
  },
  "cells": [
    {
      "cell_type": "code",
      "execution_count": null,
      "metadata": {
        "colab": {
          "base_uri": "https://localhost:8080/"
        },
        "id": "euMTwkCQl7u7",
        "outputId": "21816389-3135-4663-b1af-86f75c57cefb"
      },
      "outputs": [
        {
          "output_type": "stream",
          "name": "stdout",
          "text": [
            "set operations\n",
            "Hello World\n",
            "{1, 2, 3, 4}\n",
            "{3, 4, 5, 6}\n",
            "{1, 2, 3, 4, 5, 6}\n",
            "{3, 4}\n",
            "{1, 2}\n",
            "{5, 6}\n",
            "False\n",
            "False\n",
            "False\n",
            "{1, 2, 3, 4, 7}\n",
            "{1, 2, 3, 4, 7, 8, 9, 10}\n",
            "{2, 3, 4, 7, 8, 9, 10}\n",
            "{2, 3, 7, 8, 9, 10}\n",
            "{2, 3, 8, 9, 10}\n",
            "set()\n",
            "{0, 1, 4, 9, 16}\n"
          ]
        }
      ],
      "source": [
        "\"\"\"In this file i have used all the possible functions which can be implemted on the sets\n",
        "the possible functions which can be used on the sets are 1.union() 2.intersection() 3.difference()\n",
        "4.issubset() 5.isdisjoint() 6.add() 7.update() 8.pop() 9.delete() 10. discard() 11.clear() \"\"\"\n",
        "print(\"set operations\")\n",
        "print(\"Hello World\")      # printing hello world\n",
        "a={1,2,3,4}               # initialising set a\n",
        "b={3,4,5,6}               # initialising set b\n",
        "print(a)                  # printing set a\n",
        "print(b)                  # printing set b\n",
        "print(a.union(b))         # adding both the sets a+b\n",
        "print(a.intersection(b))  # intersection of sets\n",
        "print(a.difference(b))    # printing difference of a-b\n",
        "print(b.difference(a))    # printing difference b-a\n",
        "print(a.issubset(b))      # checking if a is a subset of b\n",
        "print(b.issubset(a))      # checking if b is a subset of a\n",
        "print(a.isdisjoint(b))    # checting if a is a disjoint of b\n",
        "a.add(7)                  # adding 7 to set a\n",
        "print(a)                  # printing a after adding 7\n",
        "c=(8,9,10)                # initialising a tuple c\n",
        "a.update(c)               # adding the elements of tuple to set a\n",
        "print(a)                  # printing a after adding the elements of c \n",
        "a.pop()                   # removing a random element from set a\n",
        "print(a)                  # printing a after popping a random element from a\n",
        "a.remove(4)               # removing 4 from set a\n",
        "print(a)                  # printing a after removing the element 4\n",
        "a.discard(7)              # removing 7 from set a\n",
        "print(a)                  # printing a after removing 7\n",
        "b.clear()                 # removing all the elements in set b\n",
        "print(b)                  # printing set b after removing all the elements\n",
        "c={x*x for x in range(5)} # Using set comprehension\n",
        "print(c)\n",
        "\n"
      ]
    }
  ]
}